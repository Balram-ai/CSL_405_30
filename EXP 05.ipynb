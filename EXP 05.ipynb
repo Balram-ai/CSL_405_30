{
  "cells": [
    {
      "cell_type": "markdown",
      "metadata": {
        "id": "e0pbcD1fGG4a"
      },
      "source": [
        "Balram Mandal (30)"
      ]
    },
    {
      "cell_type": "code",
      "execution_count": 10,
      "metadata": {
        "colab": {
          "base_uri": "https://localhost:8080/"
        },
        "id": "KuG3eZGZPkMy",
        "outputId": "8615e6cf-8d19-4cb0-af71-10ac6738e9bd"
      },
      "outputs": [
        {
          "name": "stdout",
          "output_type": "stream",
          "text": [
            "Enter a valid parentheses string: (1)+((2))+(((3)))\n",
            "The maximum nesting depth is: 3\n"
          ]
        }
      ],
      "source": [
        "class StackDepth:\n",
        "    def maximumDepth(self, stringInput: str) -> int:\n",
        "        current_depth = 0\n",
        "        max_depth = 0\n",
        "\n",
        "\n",
        "        for char in stringInput:\n",
        "            if char == '(':\n",
        "\n",
        "                current_depth += 1\n",
        "                max_depth = max(max_depth, current_depth)\n",
        "\n",
        "            elif char == ')':\n",
        "\n",
        "                current_depth -= 1\n",
        "\n",
        "        return max_depth\n",
        "\n",
        "\n",
        "stack_depth = StackDepth()\n",
        "\n",
        "user_input = input(\"Enter a valid parentheses string: \")\n",
        "\n",
        "result = stack_depth.maximumDepth(user_input)\n",
        "print(f\"The maximum nesting depth is: {result}\")\n"
      ]
    }
  ],
  "metadata": {
    "colab": {
      "provenance": []
    },
    "kernelspec": {
      "display_name": "Python 3",
      "name": "python3"
    },
    "language_info": {
      "name": "python"
    }
  },
  "nbformat": 4,
  "nbformat_minor": 0
}
