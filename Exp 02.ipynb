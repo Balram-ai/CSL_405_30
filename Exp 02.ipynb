{
  "nbformat": 4,
  "nbformat_minor": 0,
  "metadata": {
    "colab": {
      "provenance": []
    },
    "kernelspec": {
      "name": "python3",
      "display_name": "Python 3"
    },
    "language_info": {
      "name": "python"
    }
  },
  "cells": [
    {
      "cell_type": "code",
      "execution_count": 1,
      "metadata": {
        "colab": {
          "base_uri": "https://localhost:8080/"
        },
        "id": "aX_Fj_ImQKyu",
        "outputId": "d72894b7-2fe6-4a15-8768-1e45fd15a901"
      },
      "outputs": [
        {
          "output_type": "stream",
          "name": "stdout",
          "text": [
            "Frontend Developer\n",
            "Fullstack\n",
            "Backend Developer\n",
            "Not a Developer\n"
          ]
        }
      ],
      "source": [
        "class Employee:\n",
        "    def __init__ (\n",
        "            self,\n",
        "            designation : str = 'Developer',\n",
        "            frontend : bool = False,\n",
        "            backend : bool = False\n",
        "    ):\n",
        "        self.designation = designation\n",
        "        self.frontend = frontend\n",
        "        self.backend = backend\n",
        "\n",
        "    def __repr__ (self):\n",
        "        return '{} - Frontend: {}, Backend: {}'.format(self.designation, self.frontend, self.backend)\n",
        "\n",
        "    ### Write your method over here.\n",
        "    def verifier(self):\n",
        "        if self.frontend and self.backend:\n",
        "            return \"Fullstack\"\n",
        "        elif self.frontend:\n",
        "            return \"Frontend Developer\"\n",
        "        elif self.backend:\n",
        "            return \"Backend Developer\"\n",
        "        else:\n",
        "            return \"Not a Developer\"\n",
        "\n",
        "if __name__ == '__main__':\n",
        "    firstEmployee = Employee(frontend=True)\n",
        "    secondEmployee = Employee(frontend=True, backend=True)\n",
        "    thirdEmployee = Employee(backend=True)\n",
        "    fourthEmployee = Employee()\n",
        "\n",
        "    print(firstEmployee.verifier())  # Output: Frontend Developer\n",
        "    print(secondEmployee.verifier())  # Output: Fullstack\n",
        "    print(thirdEmployee.verifier())  # Output: Backend Developer\n",
        "    print(fourthEmployee.verifier())  # Output: Not a Developer"
      ]
    }
  ]
}